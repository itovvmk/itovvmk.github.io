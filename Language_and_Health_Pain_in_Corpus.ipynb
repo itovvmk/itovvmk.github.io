{
  "cells": [
    {
      "cell_type": "markdown",
      "metadata": {
        "id": "view-in-github",
        "colab_type": "text"
      },
      "source": [
        "<a href=\"https://colab.research.google.com/github/itovvmk/itovvmk.github.io/blob/main/Language_and_Health_Pain_in_Corpus.ipynb\" target=\"_parent\"><img src=\"https://colab.research.google.com/assets/colab-badge.svg\" alt=\"Open In Colab\"/></a>"
      ]
    },
    {
      "cell_type": "markdown",
      "source": [
        "# Atualização e importação de módulos"
      ],
      "metadata": {
        "id": "9SiQWplQKLrp"
      }
    },
    {
      "cell_type": "code",
      "execution_count": 1,
      "metadata": {
        "colab": {
          "base_uri": "https://localhost:8080/"
        },
        "id": "llOxRwMn2_94",
        "outputId": "aedfd001-afa3-4ab4-9091-189e699479e9"
      },
      "outputs": [
        {
          "output_type": "stream",
          "name": "stdout",
          "text": [
            "Drive already mounted at /content/drive; to attempt to forcibly remount, call drive.mount(\"/content/drive\", force_remount=True).\n"
          ]
        }
      ],
      "source": [
        "# Usar arquivos no drive\n",
        "from google.colab import drive\n",
        "drive.mount('/content/drive')"
      ]
    },
    {
      "cell_type": "code",
      "execution_count": 2,
      "metadata": {
        "colab": {
          "base_uri": "https://localhost:8080/"
        },
        "id": "FnqMI7RB5mpa",
        "outputId": "b00ac648-0f36-4793-95f3-a6cbde56ec06"
      },
      "outputs": [
        {
          "output_type": "stream",
          "name": "stdout",
          "text": [
            "Requirement already satisfied: spacy in /usr/local/lib/python3.10/dist-packages (3.7.2)\n",
            "Requirement already satisfied: spacy-legacy<3.1.0,>=3.0.11 in /usr/local/lib/python3.10/dist-packages (from spacy) (3.0.12)\n",
            "Requirement already satisfied: spacy-loggers<2.0.0,>=1.0.0 in /usr/local/lib/python3.10/dist-packages (from spacy) (1.0.5)\n",
            "Requirement already satisfied: murmurhash<1.1.0,>=0.28.0 in /usr/local/lib/python3.10/dist-packages (from spacy) (1.0.10)\n",
            "Requirement already satisfied: cymem<2.1.0,>=2.0.2 in /usr/local/lib/python3.10/dist-packages (from spacy) (2.0.8)\n",
            "Requirement already satisfied: preshed<3.1.0,>=3.0.2 in /usr/local/lib/python3.10/dist-packages (from spacy) (3.0.9)\n",
            "Requirement already satisfied: thinc<8.3.0,>=8.1.8 in /usr/local/lib/python3.10/dist-packages (from spacy) (8.1.12)\n",
            "Requirement already satisfied: wasabi<1.2.0,>=0.9.1 in /usr/local/lib/python3.10/dist-packages (from spacy) (1.1.2)\n",
            "Requirement already satisfied: srsly<3.0.0,>=2.4.3 in /usr/local/lib/python3.10/dist-packages (from spacy) (2.4.8)\n",
            "Requirement already satisfied: catalogue<2.1.0,>=2.0.6 in /usr/local/lib/python3.10/dist-packages (from spacy) (2.0.10)\n",
            "Requirement already satisfied: weasel<0.4.0,>=0.1.0 in /usr/local/lib/python3.10/dist-packages (from spacy) (0.3.4)\n",
            "Requirement already satisfied: typer<0.10.0,>=0.3.0 in /usr/local/lib/python3.10/dist-packages (from spacy) (0.9.0)\n",
            "Requirement already satisfied: smart-open<7.0.0,>=5.2.1 in /usr/local/lib/python3.10/dist-packages (from spacy) (6.4.0)\n",
            "Requirement already satisfied: tqdm<5.0.0,>=4.38.0 in /usr/local/lib/python3.10/dist-packages (from spacy) (4.66.1)\n",
            "Requirement already satisfied: requests<3.0.0,>=2.13.0 in /usr/local/lib/python3.10/dist-packages (from spacy) (2.31.0)\n",
            "Requirement already satisfied: pydantic!=1.8,!=1.8.1,<3.0.0,>=1.7.4 in /usr/local/lib/python3.10/dist-packages (from spacy) (1.10.13)\n",
            "Requirement already satisfied: jinja2 in /usr/local/lib/python3.10/dist-packages (from spacy) (3.1.2)\n",
            "Requirement already satisfied: setuptools in /usr/local/lib/python3.10/dist-packages (from spacy) (67.7.2)\n",
            "Requirement already satisfied: packaging>=20.0 in /usr/local/lib/python3.10/dist-packages (from spacy) (23.2)\n",
            "Requirement already satisfied: langcodes<4.0.0,>=3.2.0 in /usr/local/lib/python3.10/dist-packages (from spacy) (3.3.0)\n",
            "Requirement already satisfied: numpy>=1.19.0 in /usr/local/lib/python3.10/dist-packages (from spacy) (1.23.5)\n",
            "Requirement already satisfied: typing-extensions>=4.2.0 in /usr/local/lib/python3.10/dist-packages (from pydantic!=1.8,!=1.8.1,<3.0.0,>=1.7.4->spacy) (4.5.0)\n",
            "Requirement already satisfied: charset-normalizer<4,>=2 in /usr/local/lib/python3.10/dist-packages (from requests<3.0.0,>=2.13.0->spacy) (3.3.2)\n",
            "Requirement already satisfied: idna<4,>=2.5 in /usr/local/lib/python3.10/dist-packages (from requests<3.0.0,>=2.13.0->spacy) (3.6)\n",
            "Requirement already satisfied: urllib3<3,>=1.21.1 in /usr/local/lib/python3.10/dist-packages (from requests<3.0.0,>=2.13.0->spacy) (2.0.7)\n",
            "Requirement already satisfied: certifi>=2017.4.17 in /usr/local/lib/python3.10/dist-packages (from requests<3.0.0,>=2.13.0->spacy) (2023.11.17)\n",
            "Requirement already satisfied: blis<0.8.0,>=0.7.8 in /usr/local/lib/python3.10/dist-packages (from thinc<8.3.0,>=8.1.8->spacy) (0.7.11)\n",
            "Requirement already satisfied: confection<1.0.0,>=0.0.1 in /usr/local/lib/python3.10/dist-packages (from thinc<8.3.0,>=8.1.8->spacy) (0.1.4)\n",
            "Requirement already satisfied: click<9.0.0,>=7.1.1 in /usr/local/lib/python3.10/dist-packages (from typer<0.10.0,>=0.3.0->spacy) (8.1.7)\n",
            "Requirement already satisfied: cloudpathlib<0.17.0,>=0.7.0 in /usr/local/lib/python3.10/dist-packages (from weasel<0.4.0,>=0.1.0->spacy) (0.16.0)\n",
            "Requirement already satisfied: MarkupSafe>=2.0 in /usr/local/lib/python3.10/dist-packages (from jinja2->spacy) (2.1.3)\n",
            "2024-01-01 18:00:02.457119: E external/local_xla/xla/stream_executor/cuda/cuda_dnn.cc:9261] Unable to register cuDNN factory: Attempting to register factory for plugin cuDNN when one has already been registered\n",
            "2024-01-01 18:00:02.457198: E external/local_xla/xla/stream_executor/cuda/cuda_fft.cc:607] Unable to register cuFFT factory: Attempting to register factory for plugin cuFFT when one has already been registered\n",
            "2024-01-01 18:00:02.469207: E external/local_xla/xla/stream_executor/cuda/cuda_blas.cc:1515] Unable to register cuBLAS factory: Attempting to register factory for plugin cuBLAS when one has already been registered\n",
            "2024-01-01 18:00:02.503382: I tensorflow/core/platform/cpu_feature_guard.cc:182] This TensorFlow binary is optimized to use available CPU instructions in performance-critical operations.\n",
            "To enable the following instructions: AVX2 FMA, in other operations, rebuild TensorFlow with the appropriate compiler flags.\n",
            "2024-01-01 18:00:08.097038: W tensorflow/compiler/tf2tensorrt/utils/py_utils.cc:38] TF-TRT Warning: Could not find TensorRT\n",
            "Collecting es-core-news-lg==3.7.0\n",
            "  Downloading https://github.com/explosion/spacy-models/releases/download/es_core_news_lg-3.7.0/es_core_news_lg-3.7.0-py3-none-any.whl (568.0 MB)\n",
            "\u001b[2K     \u001b[90m━━━━━━━━━━━━━━━━━━━━━━━━━━━━━━━━━━━━━━━━\u001b[0m \u001b[32m568.0/568.0 MB\u001b[0m \u001b[31m1.3 MB/s\u001b[0m eta \u001b[36m0:00:00\u001b[0m\n",
            "\u001b[?25hRequirement already satisfied: spacy<3.8.0,>=3.7.0 in /usr/local/lib/python3.10/dist-packages (from es-core-news-lg==3.7.0) (3.7.2)\n",
            "Requirement already satisfied: spacy-legacy<3.1.0,>=3.0.11 in /usr/local/lib/python3.10/dist-packages (from spacy<3.8.0,>=3.7.0->es-core-news-lg==3.7.0) (3.0.12)\n",
            "Requirement already satisfied: spacy-loggers<2.0.0,>=1.0.0 in /usr/local/lib/python3.10/dist-packages (from spacy<3.8.0,>=3.7.0->es-core-news-lg==3.7.0) (1.0.5)\n",
            "Requirement already satisfied: murmurhash<1.1.0,>=0.28.0 in /usr/local/lib/python3.10/dist-packages (from spacy<3.8.0,>=3.7.0->es-core-news-lg==3.7.0) (1.0.10)\n",
            "Requirement already satisfied: cymem<2.1.0,>=2.0.2 in /usr/local/lib/python3.10/dist-packages (from spacy<3.8.0,>=3.7.0->es-core-news-lg==3.7.0) (2.0.8)\n",
            "Requirement already satisfied: preshed<3.1.0,>=3.0.2 in /usr/local/lib/python3.10/dist-packages (from spacy<3.8.0,>=3.7.0->es-core-news-lg==3.7.0) (3.0.9)\n",
            "Requirement already satisfied: thinc<8.3.0,>=8.1.8 in /usr/local/lib/python3.10/dist-packages (from spacy<3.8.0,>=3.7.0->es-core-news-lg==3.7.0) (8.1.12)\n",
            "Requirement already satisfied: wasabi<1.2.0,>=0.9.1 in /usr/local/lib/python3.10/dist-packages (from spacy<3.8.0,>=3.7.0->es-core-news-lg==3.7.0) (1.1.2)\n",
            "Requirement already satisfied: srsly<3.0.0,>=2.4.3 in /usr/local/lib/python3.10/dist-packages (from spacy<3.8.0,>=3.7.0->es-core-news-lg==3.7.0) (2.4.8)\n",
            "Requirement already satisfied: catalogue<2.1.0,>=2.0.6 in /usr/local/lib/python3.10/dist-packages (from spacy<3.8.0,>=3.7.0->es-core-news-lg==3.7.0) (2.0.10)\n",
            "Requirement already satisfied: weasel<0.4.0,>=0.1.0 in /usr/local/lib/python3.10/dist-packages (from spacy<3.8.0,>=3.7.0->es-core-news-lg==3.7.0) (0.3.4)\n",
            "Requirement already satisfied: typer<0.10.0,>=0.3.0 in /usr/local/lib/python3.10/dist-packages (from spacy<3.8.0,>=3.7.0->es-core-news-lg==3.7.0) (0.9.0)\n",
            "Requirement already satisfied: smart-open<7.0.0,>=5.2.1 in /usr/local/lib/python3.10/dist-packages (from spacy<3.8.0,>=3.7.0->es-core-news-lg==3.7.0) (6.4.0)\n",
            "Requirement already satisfied: tqdm<5.0.0,>=4.38.0 in /usr/local/lib/python3.10/dist-packages (from spacy<3.8.0,>=3.7.0->es-core-news-lg==3.7.0) (4.66.1)\n",
            "Requirement already satisfied: requests<3.0.0,>=2.13.0 in /usr/local/lib/python3.10/dist-packages (from spacy<3.8.0,>=3.7.0->es-core-news-lg==3.7.0) (2.31.0)\n",
            "Requirement already satisfied: pydantic!=1.8,!=1.8.1,<3.0.0,>=1.7.4 in /usr/local/lib/python3.10/dist-packages (from spacy<3.8.0,>=3.7.0->es-core-news-lg==3.7.0) (1.10.13)\n",
            "Requirement already satisfied: jinja2 in /usr/local/lib/python3.10/dist-packages (from spacy<3.8.0,>=3.7.0->es-core-news-lg==3.7.0) (3.1.2)\n",
            "Requirement already satisfied: setuptools in /usr/local/lib/python3.10/dist-packages (from spacy<3.8.0,>=3.7.0->es-core-news-lg==3.7.0) (67.7.2)\n",
            "Requirement already satisfied: packaging>=20.0 in /usr/local/lib/python3.10/dist-packages (from spacy<3.8.0,>=3.7.0->es-core-news-lg==3.7.0) (23.2)\n",
            "Requirement already satisfied: langcodes<4.0.0,>=3.2.0 in /usr/local/lib/python3.10/dist-packages (from spacy<3.8.0,>=3.7.0->es-core-news-lg==3.7.0) (3.3.0)\n",
            "Requirement already satisfied: numpy>=1.19.0 in /usr/local/lib/python3.10/dist-packages (from spacy<3.8.0,>=3.7.0->es-core-news-lg==3.7.0) (1.23.5)\n",
            "Requirement already satisfied: typing-extensions>=4.2.0 in /usr/local/lib/python3.10/dist-packages (from pydantic!=1.8,!=1.8.1,<3.0.0,>=1.7.4->spacy<3.8.0,>=3.7.0->es-core-news-lg==3.7.0) (4.5.0)\n",
            "Requirement already satisfied: charset-normalizer<4,>=2 in /usr/local/lib/python3.10/dist-packages (from requests<3.0.0,>=2.13.0->spacy<3.8.0,>=3.7.0->es-core-news-lg==3.7.0) (3.3.2)\n",
            "Requirement already satisfied: idna<4,>=2.5 in /usr/local/lib/python3.10/dist-packages (from requests<3.0.0,>=2.13.0->spacy<3.8.0,>=3.7.0->es-core-news-lg==3.7.0) (3.6)\n",
            "Requirement already satisfied: urllib3<3,>=1.21.1 in /usr/local/lib/python3.10/dist-packages (from requests<3.0.0,>=2.13.0->spacy<3.8.0,>=3.7.0->es-core-news-lg==3.7.0) (2.0.7)\n",
            "Requirement already satisfied: certifi>=2017.4.17 in /usr/local/lib/python3.10/dist-packages (from requests<3.0.0,>=2.13.0->spacy<3.8.0,>=3.7.0->es-core-news-lg==3.7.0) (2023.11.17)\n",
            "Requirement already satisfied: blis<0.8.0,>=0.7.8 in /usr/local/lib/python3.10/dist-packages (from thinc<8.3.0,>=8.1.8->spacy<3.8.0,>=3.7.0->es-core-news-lg==3.7.0) (0.7.11)\n",
            "Requirement already satisfied: confection<1.0.0,>=0.0.1 in /usr/local/lib/python3.10/dist-packages (from thinc<8.3.0,>=8.1.8->spacy<3.8.0,>=3.7.0->es-core-news-lg==3.7.0) (0.1.4)\n",
            "Requirement already satisfied: click<9.0.0,>=7.1.1 in /usr/local/lib/python3.10/dist-packages (from typer<0.10.0,>=0.3.0->spacy<3.8.0,>=3.7.0->es-core-news-lg==3.7.0) (8.1.7)\n",
            "Requirement already satisfied: cloudpathlib<0.17.0,>=0.7.0 in /usr/local/lib/python3.10/dist-packages (from weasel<0.4.0,>=0.1.0->spacy<3.8.0,>=3.7.0->es-core-news-lg==3.7.0) (0.16.0)\n",
            "Requirement already satisfied: MarkupSafe>=2.0 in /usr/local/lib/python3.10/dist-packages (from jinja2->spacy<3.8.0,>=3.7.0->es-core-news-lg==3.7.0) (2.1.3)\n",
            "Installing collected packages: es-core-news-lg\n",
            "Successfully installed es-core-news-lg-3.7.0\n",
            "\u001b[38;5;2m✔ Download and installation successful\u001b[0m\n",
            "You can now load the package via spacy.load('es_core_news_lg')\n"
          ]
        }
      ],
      "source": [
        "# Instalação/atualização do spaCy e dos modelos de língua\n",
        "!pip install -U spacy\n",
        "\n",
        "!python -m spacy download es_core_news_lg"
      ]
    },
    {
      "cell_type": "code",
      "source": [
        "from sklearn.manifold import TSNE\n",
        "import numpy as np"
      ],
      "metadata": {
        "id": "MwHrdw4U6aIM"
      },
      "execution_count": 3,
      "outputs": []
    },
    {
      "cell_type": "code",
      "source": [
        "!pip install gensim==3.8"
      ],
      "metadata": {
        "colab": {
          "base_uri": "https://localhost:8080/"
        },
        "id": "0Hg4J_0TJl1y",
        "outputId": "9f48fc42-efcf-4868-cfdd-2903baa59033"
      },
      "execution_count": 4,
      "outputs": [
        {
          "output_type": "stream",
          "name": "stdout",
          "text": [
            "Requirement already satisfied: gensim==3.8 in /usr/local/lib/python3.10/dist-packages (3.8.0)\n",
            "Requirement already satisfied: numpy>=1.11.3 in /usr/local/lib/python3.10/dist-packages (from gensim==3.8) (1.23.5)\n",
            "Requirement already satisfied: scipy>=0.18.1 in /usr/local/lib/python3.10/dist-packages (from gensim==3.8) (1.11.4)\n",
            "Requirement already satisfied: six>=1.5.0 in /usr/local/lib/python3.10/dist-packages (from gensim==3.8) (1.16.0)\n",
            "Requirement already satisfied: smart-open>=1.7.0 in /usr/local/lib/python3.10/dist-packages (from gensim==3.8) (6.4.0)\n"
          ]
        }
      ]
    },
    {
      "cell_type": "code",
      "source": [
        "import os"
      ],
      "metadata": {
        "id": "XAf4AcEKCIi5"
      },
      "execution_count": 5,
      "outputs": []
    },
    {
      "cell_type": "code",
      "source": [
        "import gensim #solve import errors as in https://stackoverflow.com/questions/69381312/importerror-cannot-import-name-mapping-from-collections-using-python-3-10\n",
        "import seaborn as sns\n",
        "import matplotlib.pyplot as plt\n",
        "import matplotlib.cm as cm\n",
        "%matplotlib inline\n",
        "import pandas as pd"
      ],
      "metadata": {
        "id": "IDVarWmc6dtc"
      },
      "execution_count": 6,
      "outputs": []
    },
    {
      "cell_type": "code",
      "execution_count": 7,
      "metadata": {
        "colab": {
          "base_uri": "https://localhost:8080/"
        },
        "id": "7WZuI74v5oaK",
        "outputId": "155224e0-a04e-43ef-9dee-f9ea95482b13"
      },
      "outputs": [
        {
          "output_type": "stream",
          "name": "stderr",
          "text": [
            "[nltk_data] Downloading package punkt to /root/nltk_data...\n",
            "[nltk_data]   Package punkt is already up-to-date!\n",
            "[nltk_data] Downloading package rslp to /root/nltk_data...\n",
            "[nltk_data]   Package rslp is already up-to-date!\n",
            "[nltk_data] Downloading package stopwords to /root/nltk_data...\n",
            "[nltk_data]   Package stopwords is already up-to-date!\n"
          ]
        },
        {
          "output_type": "execute_result",
          "data": {
            "text/plain": [
              "True"
            ]
          },
          "metadata": {},
          "execution_count": 7
        }
      ],
      "source": [
        "# Importação do módulo e do modelo de língua\n",
        "import spacy\n",
        "nlp = spacy.load('es_core_news_lg')\n",
        "import pandas as pd\n",
        "from nltk.corpus import PlaintextCorpusReader\n",
        "import nltk\n",
        "nltk.download('punkt')\n",
        "nltk.download('rslp')\n",
        "nltk.download('stopwords')"
      ]
    },
    {
      "cell_type": "code",
      "source": [
        "import itertools\n",
        "\n",
        "def achatar(lista):\n",
        "    return list(itertools.chain(*lista))"
      ],
      "metadata": {
        "id": "bo5YK5AWisfh"
      },
      "execution_count": 8,
      "outputs": []
    },
    {
      "cell_type": "code",
      "source": [
        "# Stopwords\n",
        "stops_nltk = nltk.corpus.stopwords.words('spanish')\n",
        "novas_stops = ['fondo', 'dávila','e', 'cachai', 'cachay', 'poh','eh', 'po', 'ah', 'pa', 'así', 'ay'\n",
        "               'em','m','xxx', 'inaud', 'aah', 'risas','súper','entretenido', 'venezuela', 'antofagasta', 'er', 'él','yo',\n",
        "               'entonces', 'si', 'sí', 'pucha', 'puta',\n",
        "               'quizás', 'ser', 'sé', 'igual','cha', 'pu', 'allí',\n",
        "               'ahí', 'claro', 'va', 'bueno','forma','alguna','doctorado',\n",
        "               'ejemplo', 'hecho','quizá', 'tal', 'realidad', 'entrecomillas', 'súper',\n",
        "               'comillas', 'indisa', 'antropología', 'antropologa','sociales','chiloé','acá'\n",
        "               'tema', 'r', 'l','s','h','bonito', 'años', 'año','cosa','cosas','d','copita']\n",
        "stops_nltk.extend(novas_stops)\n",
        "stops_spacy = nlp.Defaults.stop_words\n",
        "stops = set(stops_nltk) | stops_spacy"
      ],
      "metadata": {
        "id": "CY9db_ArfGYl"
      },
      "execution_count": 271,
      "outputs": []
    },
    {
      "cell_type": "code",
      "source": [
        "# Pegar arquivos .txt da pasta no drive\n",
        "from nltk.corpus import PlaintextCorpusReader\n",
        "\n",
        "corpus_root = '/content/drive/My Drive/RiCL/entrevistas'\n",
        "wordlists = PlaintextCorpusReader(corpus_root, '.*')\n",
        "\n",
        "# Criação da coleção de documentos\n",
        "entrevistas = wordlists.fileids()\n",
        "\n",
        "corpus = list()"
      ],
      "metadata": {
        "id": "SpVSrZnyYoli"
      },
      "execution_count": 10,
      "outputs": []
    },
    {
      "cell_type": "code",
      "source": [
        "import re"
      ],
      "metadata": {
        "id": "xpoZcSB3Hb9i"
      },
      "execution_count": 11,
      "outputs": []
    },
    {
      "cell_type": "code",
      "source": [
        "\"\"\" Função que recebe uma string e lematiza\n",
        "\"\"\"\n",
        "def preproc(sent):\n",
        "    tokens = nltk.tokenize.word_tokenize(sent)\n",
        "    tokens = [t.lower() for t in tokens if t.isalpha()]\n",
        "    tokens = [i for i in tokens if i not in stops]\n",
        "    return tokens\n",
        "\n",
        "def lema(string):\n",
        "    doc = nlp(string)\n",
        "\n",
        "    return [token.lemma_ for token in doc]"
      ],
      "metadata": {
        "id": "1A5Dbb_AH6ve"
      },
      "execution_count": 12,
      "outputs": []
    },
    {
      "cell_type": "code",
      "source": [
        "# Transformar em lista de strings\n",
        "corpus = []\n",
        "for entrevista in entrevistas:\n",
        "    strings = wordlists.raw(entrevista)\n",
        "    corpus.append(strings)\n",
        "\n",
        "# Retirar falas de entrevistadoras\n",
        "regex = r\"M*:.*?E:\"\n",
        "\n",
        "colecao_entrevistadas = []\n",
        "for i in corpus:\n",
        "    achar_regex = re.findall(regex, i, re.DOTALL)\n",
        "    entrevistadas = ' '.join(achar_regex)\n",
        "    colecao_entrevistadas.append(entrevistadas)"
      ],
      "metadata": {
        "id": "jm9I3nB1cR8w"
      },
      "execution_count": 272,
      "outputs": []
    },
    {
      "cell_type": "code",
      "source": [
        "len(colecao_entrevistadas)"
      ],
      "metadata": {
        "colab": {
          "base_uri": "https://localhost:8080/"
        },
        "id": "_RoYhYl5OkOS",
        "outputId": "1ddbf3e5-8041-46b8-fab2-6cda06de1ddf"
      },
      "execution_count": 66,
      "outputs": [
        {
          "output_type": "execute_result",
          "data": {
            "text/plain": [
              "30"
            ]
          },
          "metadata": {},
          "execution_count": 66
        }
      ]
    },
    {
      "cell_type": "code",
      "source": [
        "tokens = []"
      ],
      "metadata": {
        "id": "97vX4tazKsXj"
      },
      "execution_count": 273,
      "outputs": []
    },
    {
      "cell_type": "code",
      "source": [
        "# Limpar e tokenizar\n",
        "tokens = [preproc(i) for i in colecao_entrevistadas]"
      ],
      "metadata": {
        "id": "2236Yk0DIASc"
      },
      "execution_count": 274,
      "outputs": []
    },
    {
      "cell_type": "code",
      "source": [
        "tokens_strings = [' '.join(i) for i in tokens]"
      ],
      "metadata": {
        "id": "flMQU686ViA3"
      },
      "execution_count": 275,
      "outputs": []
    },
    {
      "cell_type": "code",
      "source": [
        "lemas = [lema(i) for i in tokens_strings]"
      ],
      "metadata": {
        "id": "d_Yg118yVnBX"
      },
      "execution_count": 276,
      "outputs": []
    },
    {
      "cell_type": "markdown",
      "source": [
        "# Word2Vec implementation"
      ],
      "metadata": {
        "id": "XgK31uS__5Rz"
      }
    },
    {
      "cell_type": "code",
      "source": [
        "# WORD2VEC for corpus in Spanish\n",
        "from gensim.models import Word2Vec\n",
        "# size: dimensão dos vetores\n",
        "# window: distância máxima (em palavras) a partir da palavra-alvo\n",
        "# min_count: número mínimo de ocorrências das palavras escolhidas\n",
        "\n",
        "model = Word2Vec(lemas, size=120, window=10, min_count=10)\n",
        "\n",
        "# total_examples: número de sentenças de treinamento\n",
        "model.train(lemas, total_examples=30, epochs=100)"
      ],
      "metadata": {
        "colab": {
          "base_uri": "https://localhost:8080/"
        },
        "id": "hObDcEc5TR9H",
        "outputId": "9ba55b7d-a845-4618-8d51-2191f91becf1"
      },
      "execution_count": 277,
      "outputs": [
        {
          "output_type": "stream",
          "name": "stderr",
          "text": [
            "WARNING:gensim.models.base_any2vec:under 10 jobs per worker: consider setting a smaller `batch_words' for smoother alpha decay\n",
            "WARNING:gensim.models.base_any2vec:Effective 'alpha' higher than previous training cycles\n"
          ]
        },
        {
          "output_type": "execute_result",
          "data": {
            "text/plain": [
              "(1971155, 3632100)"
            ]
          },
          "metadata": {},
          "execution_count": 277
        }
      ]
    },
    {
      "cell_type": "markdown",
      "source": [
        "# Most similar"
      ],
      "metadata": {
        "id": "h53S1SLNP7lt"
      }
    },
    {
      "cell_type": "markdown",
      "source": [
        "# Definitions of menstruation"
      ],
      "metadata": {
        "id": "mshQP0UZPCC6"
      }
    },
    {
      "cell_type": "code",
      "source": [
        "# termos similares\n",
        "model.most_similar('menstruación', topn=10)"
      ],
      "metadata": {
        "colab": {
          "base_uri": "https://localhost:8080/"
        },
        "id": "AU3g_zuPP_Vi",
        "outputId": "d1f8bd3a-ff5d-4dae-8cbc-4beab8c830b4"
      },
      "execution_count": 278,
      "outputs": [
        {
          "output_type": "stream",
          "name": "stderr",
          "text": [
            "<ipython-input-278-9ebf28e0e23b>:2: DeprecationWarning: Call to deprecated `most_similar` (Method will be removed in 4.0.0, use self.wv.most_similar() instead).\n",
            "  model.most_similar('menstruación', topn=10)\n"
          ]
        },
        {
          "output_type": "execute_result",
          "data": {
            "text/plain": [
              "[('abundante', 0.6191399693489075),\n",
              " ('hueso', 0.5212849378585815),\n",
              " ('hemorragia', 0.46438682079315186),\n",
              " ('doloroso', 0.4471602439880371),\n",
              " ('cortar', 0.42838358879089355),\n",
              " ('anticonceptivo', 0.41756123304367065),\n",
              " ('tremendo', 0.4049299359321594),\n",
              " ('durar', 0.3983049690723419),\n",
              " ('severo', 0.3864632546901703),\n",
              " ('sangrar', 0.3787758946418762)]"
            ]
          },
          "metadata": {},
          "execution_count": 278
        }
      ]
    },
    {
      "cell_type": "code",
      "source": [
        "# termos similares\n",
        "model.most_similar('regla', topn=10)"
      ],
      "metadata": {
        "colab": {
          "base_uri": "https://localhost:8080/"
        },
        "id": "Q2AHYj5-Ckyh",
        "outputId": "f4e13ced-d47f-43e1-9a28-0c0d00a57471"
      },
      "execution_count": 279,
      "outputs": [
        {
          "output_type": "stream",
          "name": "stderr",
          "text": [
            "<ipython-input-279-22afe12de5db>:2: DeprecationWarning: Call to deprecated `most_similar` (Method will be removed in 4.0.0, use self.wv.most_similar() instead).\n",
            "  model.most_similar('regla', topn=10)\n"
          ]
        },
        {
          "output_type": "execute_result",
          "data": {
            "text/plain": [
              "[('abundante', 0.49064308404922485),\n",
              " ('empezar', 0.43338245153427124),\n",
              " ('desmayar', 0.39458146691322327),\n",
              " ('mes', 0.38473016023635864),\n",
              " ('doloroso', 0.37647801637649536),\n",
              " ('oportunidad', 0.37431246042251587),\n",
              " ('sabi', 0.3717849850654602),\n",
              " ('invalidante', 0.3545975983142853),\n",
              " ('durar', 0.3523443043231964),\n",
              " ('típico', 0.35159099102020264)]"
            ]
          },
          "metadata": {},
          "execution_count": 279
        }
      ]
    },
    {
      "cell_type": "code",
      "source": [
        "# termos similares\n",
        "model.most_similar('menstrual', topn=10)"
      ],
      "metadata": {
        "colab": {
          "base_uri": "https://localhost:8080/"
        },
        "id": "rqjHa8UfRW_t",
        "outputId": "9fc2c408-8948-4c2e-9846-57c5e3dffb01"
      },
      "execution_count": 280,
      "outputs": [
        {
          "output_type": "stream",
          "name": "stderr",
          "text": [
            "<ipython-input-280-8d7fd94c6881>:2: DeprecationWarning: Call to deprecated `most_similar` (Method will be removed in 4.0.0, use self.wv.most_similar() instead).\n",
            "  model.most_similar('menstrual', topn=10)\n"
          ]
        },
        {
          "output_type": "execute_result",
          "data": {
            "text/plain": [
              "[('abundante', 0.5358511209487915),\n",
              " ('molestia', 0.49564170837402344),\n",
              " ('adolescencia', 0.4488529562950134),\n",
              " ('abdomen', 0.42090243101119995),\n",
              " ('estómago', 0.39602816104888916),\n",
              " ('pélvico', 0.3956192433834076),\n",
              " ('regular', 0.39012280106544495),\n",
              " ('aliviar', 0.3870812654495239),\n",
              " ('analgésico', 0.37223589420318604),\n",
              " ('durar', 0.37035876512527466)]"
            ]
          },
          "metadata": {},
          "execution_count": 280
        }
      ]
    },
    {
      "cell_type": "markdown",
      "source": [
        "# Definitions of endometriosis"
      ],
      "metadata": {
        "id": "hn0V0Qu8PFDp"
      }
    },
    {
      "cell_type": "code",
      "source": [
        "model.most_similar('endometriosis', topn=10)"
      ],
      "metadata": {
        "colab": {
          "base_uri": "https://localhost:8080/"
        },
        "id": "wyvIt5uQSKT_",
        "outputId": "c082a1ba-40ba-42a2-fb60-054fcc2948ce"
      },
      "execution_count": 281,
      "outputs": [
        {
          "output_type": "stream",
          "name": "stderr",
          "text": [
            "<ipython-input-281-89715920f301>:1: DeprecationWarning: Call to deprecated `most_similar` (Method will be removed in 4.0.0, use self.wv.most_similar() instead).\n",
            "  model.most_similar('endometriosis', topn=10)\n"
          ]
        },
        {
          "output_type": "execute_result",
          "data": {
            "text/plain": [
              "[('especialista', 0.5998467206954956),\n",
              " ('investigar', 0.4279727637767792),\n",
              " ('profundo', 0.4089559316635132),\n",
              " ('sospechar', 0.3975067734718323),\n",
              " ('enterar', 0.3711698651313782),\n",
              " ('resonancia', 0.369948148727417),\n",
              " ('común', 0.3680271506309509),\n",
              " ('hacer él', 0.35261496901512146),\n",
              " ('grado', 0.3495524525642395),\n",
              " ('información', 0.33816033601760864)]"
            ]
          },
          "metadata": {},
          "execution_count": 281
        }
      ]
    },
    {
      "cell_type": "markdown",
      "source": [
        "# Definitions of pain"
      ],
      "metadata": {
        "id": "fNfYzi36O-gt"
      }
    },
    {
      "cell_type": "code",
      "source": [
        "model.most_similar('dolor', topn=10)"
      ],
      "metadata": {
        "colab": {
          "base_uri": "https://localhost:8080/"
        },
        "id": "N7zMvBH-SQ-e",
        "outputId": "7f5db929-f8c3-48b2-e544-44fa3d7b3478"
      },
      "execution_count": 282,
      "outputs": [
        {
          "output_type": "stream",
          "name": "stderr",
          "text": [
            "<ipython-input-282-0a8877908de0>:1: DeprecationWarning: Call to deprecated `most_similar` (Method will be removed in 4.0.0, use self.wv.most_similar() instead).\n",
            "  model.most_similar('dolor', topn=10)\n"
          ]
        },
        {
          "output_type": "execute_result",
          "data": {
            "text/plain": [
              "[('constante', 0.5843042731285095),\n",
              " ('contracción', 0.5290500521659851),\n",
              " ('espalda', 0.4617069363594055),\n",
              " ('abdomen', 0.45693260431289673),\n",
              " ('intenso', 0.4491477906703949),\n",
              " ('hueso', 0.43398958444595337),\n",
              " ('analgésico', 0.43102115392684937),\n",
              " ('abundante', 0.42961353063583374),\n",
              " ('niña', 0.4243719279766083),\n",
              " ('molestia', 0.41971537470817566)]"
            ]
          },
          "metadata": {},
          "execution_count": 282
        }
      ]
    },
    {
      "cell_type": "code",
      "source": [
        "model.most_similar('doler', topn=10)"
      ],
      "metadata": {
        "colab": {
          "base_uri": "https://localhost:8080/"
        },
        "id": "aGdGkZVzHpbd",
        "outputId": "4d3f1e96-17a0-4fa5-dfa0-658d41d5ee69"
      },
      "execution_count": 283,
      "outputs": [
        {
          "output_type": "stream",
          "name": "stderr",
          "text": [
            "<ipython-input-283-d14c8c2ecf25>:1: DeprecationWarning: Call to deprecated `most_similar` (Method will be removed in 4.0.0, use self.wv.most_similar() instead).\n",
            "  model.most_similar('doler', topn=10)\n"
          ]
        },
        {
          "output_type": "execute_result",
          "data": {
            "text/plain": [
              "[('reglar', 0.4419650435447693),\n",
              " ('durar', 0.42462119460105896),\n",
              " ('normal', 0.40757301449775696),\n",
              " ('espalda', 0.40254896879196167),\n",
              " ('gana', 0.3937356472015381),\n",
              " ('dolor', 0.35173511505126953),\n",
              " ('descansar', 0.3349992632865906),\n",
              " ('regla', 0.33118951320648193),\n",
              " ('olvidar', 0.31992366909980774),\n",
              " ('guata', 0.3161216974258423)]"
            ]
          },
          "metadata": {},
          "execution_count": 283
        }
      ]
    },
    {
      "cell_type": "code",
      "source": [
        "model.most_similar('doloroso', topn=10)"
      ],
      "metadata": {
        "colab": {
          "base_uri": "https://localhost:8080/"
        },
        "id": "-ZwYq0onZ5rV",
        "outputId": "5f0f7447-c73f-435b-fbf1-32b8211f67c1"
      },
      "execution_count": 292,
      "outputs": [
        {
          "output_type": "stream",
          "name": "stderr",
          "text": [
            "<ipython-input-292-8a34660e33a7>:1: DeprecationWarning: Call to deprecated `most_similar` (Method will be removed in 4.0.0, use self.wv.most_similar() instead).\n",
            "  model.most_similar('doloroso', topn=10)\n"
          ]
        },
        {
          "output_type": "execute_result",
          "data": {
            "text/plain": [
              "[('recuerdo', 0.5962249040603638),\n",
              " ('recordar', 0.5763002634048462),\n",
              " ('abundante', 0.5587742328643799),\n",
              " ('menstruación', 0.44716018438339233),\n",
              " ('periodo', 0.39578723907470703),\n",
              " ('diagnosticar', 0.3822478652000427),\n",
              " ('regla', 0.37647804617881775),\n",
              " ('adolescencia', 0.3743680715560913),\n",
              " ('tremendo', 0.37252724170684814),\n",
              " ('cortar', 0.347270131111145)]"
            ]
          },
          "metadata": {},
          "execution_count": 292
        }
      ]
    },
    {
      "cell_type": "code",
      "source": [
        "model.most_similar('impacto', topn=10)"
      ],
      "metadata": {
        "colab": {
          "base_uri": "https://localhost:8080/"
        },
        "id": "GUPKBNOmW0Hy",
        "outputId": "74dcdaa4-588a-4c86-d542-5ff9b473ecb0"
      },
      "execution_count": 284,
      "outputs": [
        {
          "output_type": "stream",
          "name": "stderr",
          "text": [
            "<ipython-input-284-bc02554901a7>:1: DeprecationWarning: Call to deprecated `most_similar` (Method will be removed in 4.0.0, use self.wv.most_similar() instead).\n",
            "  model.most_similar('impacto', topn=10)\n"
          ]
        },
        {
          "output_type": "execute_result",
          "data": {
            "text/plain": [
              "[('negativo', 0.6616787910461426),\n",
              " ('social', 0.5915586352348328),\n",
              " ('económico', 0.5901157855987549),\n",
              " ('efecto', 0.5320744514465332),\n",
              " ('lugar', 0.5113654136657715),\n",
              " ('condición', 0.5073619484901428),\n",
              " ('laboral', 0.5066367983818054),\n",
              " ('reunión', 0.5003066062927246),\n",
              " ('acompañar', 0.45932653546333313),\n",
              " ('emocional', 0.45082616806030273)]"
            ]
          },
          "metadata": {},
          "execution_count": 284
        }
      ]
    },
    {
      "cell_type": "code",
      "source": [
        "model.most_similar('adolescencia', topn=10)"
      ],
      "metadata": {
        "colab": {
          "base_uri": "https://localhost:8080/"
        },
        "id": "4capioGgW8qs",
        "outputId": "89cc2eb0-8747-45da-dcc8-1cb1bfe8a999"
      },
      "execution_count": 285,
      "outputs": [
        {
          "output_type": "stream",
          "name": "stderr",
          "text": [
            "<ipython-input-285-3c9e687a3b79>:1: DeprecationWarning: Call to deprecated `most_similar` (Method will be removed in 4.0.0, use self.wv.most_similar() instead).\n",
            "  model.most_similar('adolescencia', topn=10)\n"
          ]
        },
        {
          "output_type": "execute_result",
          "data": {
            "text/plain": [
              "[('ibuprofeno', 0.5109801888465881),\n",
              " ('niña', 0.48325273394584656),\n",
              " ('abundante', 0.46499890089035034),\n",
              " ('dolo', 0.45540884137153625),\n",
              " ('menstrual', 0.4488529562950134),\n",
              " ('recuerdo', 0.436631977558136),\n",
              " ('regular', 0.43432775139808655),\n",
              " ('periodo', 0.43388593196868896),\n",
              " ('abdomen', 0.3903155028820038),\n",
              " ('doloroso', 0.3743680715560913)]"
            ]
          },
          "metadata": {},
          "execution_count": 285
        }
      ]
    },
    {
      "cell_type": "code",
      "source": [
        "model.most_similar('colegio', topn=10)"
      ],
      "metadata": {
        "colab": {
          "base_uri": "https://localhost:8080/"
        },
        "id": "4KRO_M7VXAf1",
        "outputId": "9b91aa90-a018-4f12-dab2-f8e16bf9d9b9"
      },
      "execution_count": 286,
      "outputs": [
        {
          "output_type": "stream",
          "name": "stderr",
          "text": [
            "<ipython-input-286-5d01d521eba6>:1: DeprecationWarning: Call to deprecated `most_similar` (Method will be removed in 4.0.0, use self.wv.most_similar() instead).\n",
            "  model.most_similar('colegio', topn=10)\n"
          ]
        },
        {
          "output_type": "execute_result",
          "data": {
            "text/plain": [
              "[('universidad', 0.45253342390060425),\n",
              " ('paracetamol', 0.44880425930023193),\n",
              " ('tení', 0.4262995719909668),\n",
              " ('sentado', 0.42406609654426575),\n",
              " ('completo', 0.40740835666656494),\n",
              " ('urgencia', 0.37605828046798706),\n",
              " ('recordar', 0.34494563937187195),\n",
              " ('desmayé', 0.34488001465797424),\n",
              " ('físico', 0.3409912586212158),\n",
              " ('amigo', 0.32751262187957764)]"
            ]
          },
          "metadata": {},
          "execution_count": 286
        }
      ]
    },
    {
      "cell_type": "code",
      "source": [
        "model.most_similar('apoyo', topn=10)"
      ],
      "metadata": {
        "colab": {
          "base_uri": "https://localhost:8080/"
        },
        "id": "X1BXRiAaXEV0",
        "outputId": "f58a28be-f98e-49d8-860d-951752175268"
      },
      "execution_count": 288,
      "outputs": [
        {
          "output_type": "stream",
          "name": "stderr",
          "text": [
            "<ipython-input-288-18d08d83ca7a>:1: DeprecationWarning: Call to deprecated `most_similar` (Method will be removed in 4.0.0, use self.wv.most_similar() instead).\n",
            "  model.most_similar('apoyo', topn=10)\n"
          ]
        },
        {
          "output_type": "execute_result",
          "data": {
            "text/plain": [
              "[('principal', 0.5770919919013977),\n",
              " ('apoyado', 0.49126067757606506),\n",
              " ('aportar', 0.47231757640838623),\n",
              " ('parejo', 0.4694792628288269),\n",
              " ('apoyar', 0.4540311098098755),\n",
              " ('cercano', 0.4534933269023895),\n",
              " ('familiar', 0.44950729608535767),\n",
              " ('red', 0.4242996275424957),\n",
              " ('ayuda', 0.3952217102050781),\n",
              " ('salud', 0.39272838830947876)]"
            ]
          },
          "metadata": {},
          "execution_count": 288
        }
      ]
    }
  ],
  "metadata": {
    "colab": {
      "provenance": [],
      "authorship_tag": "ABX9TyMVe3Qk82ea7KMC6LtKS827",
      "include_colab_link": true
    },
    "kernelspec": {
      "display_name": "Python 3",
      "name": "python3"
    },
    "language_info": {
      "name": "python"
    }
  },
  "nbformat": 4,
  "nbformat_minor": 0
}